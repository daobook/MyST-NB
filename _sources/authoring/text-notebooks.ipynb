{
 "cells": [
  {
   "cell_type": "markdown",
   "id": "391e3d94",
   "metadata": {},
   "source": [
    "(authoring/text-notebooks)=\n",
    "# Text-based Notebooks\n",
    "\n",
    "MyST Markdown notebooks allow you to write your Jupyter Notebook entirely in markdown, utilising the MyST Markdown notebook format.\n",
    "This allows you to store notebook metadata, Markdown, and cell inputs in a text-based format that is easy to read and use with text-based tools.\n",
    "\n",
    "MyST notebooks have a 1-to-1 mapping with Jupyter notebook,\n",
    "so can be [converted to `.ipynb` files](converting-ipynb) and [opened as notebooks in Jupyter interfaces](myst-nb/jupyter-interfaces) (with jupytext installed).\n",
    "When used with `myst_nb`, MyST notebooks are also integrated directly into the {ref}`Execution and Caching <execute/cache>` machinery.\n",
    "\n",
    "[^download]: This notebook can be downloaded as **{nb-download}`text-notebooks.ipynb`** and {download}`text-notebooks.md`\n",
    "\n",
    "## The MyST notebook Structure\n",
    "\n",
    "MyST Markdown Notebooks (or MyST notebooks for short) have four main types of content:\n",
    "\n",
    "- **cell/notebook level metadata** that are written as YAML wrapped in `---`\n",
    "- **markdown cells** that can be written as CommonMark or MyST Markdown\n",
    "- **code cells** that are written with the MyST Markdown `code-cell` directive syntax\n",
    "- **raw cells** that are written with the MyST Markdown `raw-cell` directive syntax\n",
    "\n",
    "### Notebook-level metadata\n",
    "\n",
    "Begin a MyST notebook file with YAML top-matter metadata, containing at least the `file_format: mystnb` signifier.\n",
    "This will be used as **notebook-level metadata** for the resulting Jupyter Notebook.\n",
    "This metadata takes the following form:\n",
    "\n",
    "```yaml\n",
    "---\n",
    "file_format: mystnb\n",
    "kernelspec:\n",
    "  name: python3\n",
    "otherkey1: val1\n",
    "otherkey2: val2\n",
    "---\n",
    "# Notebook title\n",
    "...\n",
    "```\n",
    "\n",
    "The kernel that your code cells use is determined by the `kernelspec.name` field, and  should relate to a [Jupyter kernel](https://github.com/jupyter/jupyter/wiki/Jupyter-kernels) installed in your environment and registered with Jupyter.\n",
    "If no kernel is given, then the default kernel will be used.\n",
    "\n",
    "### Syntax for Markdown\n",
    "\n",
    "Anything in-between code cells will be treated as Markdown.\n",
    "You can use any Markdown that is valid MyST.\n",
    "If you are using MyST notebooks with the `myst_nb` Sphinx extension, you can write Sphinx directives and roles.\n",
    "However, note that most Jupyter notebook environments may not be able to render MyST Markdown syntax.\n",
    "\n",
    "**To denote a break between two markdown cells**, use the following syntax:\n",
    "\n",
    "```\n",
    "Some markdown\n",
    "+++ {\"optionalkey\": \"val\"}\n",
    "More markdown\n",
    "```\n",
    "\n",
    "This will result in two markdown cells in the resulting notebook. The key:val pairs\n",
    "specified in the `{}` brackets will be cell-level metadata in the second markdown cell.\n",
    "\n",
    "### Syntax for code cells\n",
    "\n",
    "When writing MyST notebooks, use the following syntax to define a code cell:\n",
    "\n",
    "````md\n",
    "```{code-cell} ipython3\n",
    "a = \"This is some\"\n",
    "b = \"Python code!\"\n",
    "print(f\"{a} {b}\")\n",
    "```\n",
    "````\n",
    "\n",
    "The argument after `{code-cell}` (above, `ipython3`) is optional, and is used for\n",
    "readability purposes. The content inside `{code-cell}` makes up the content of the cell,\n",
    "and will be executed at build time.\n",
    "\n",
    "This will result in the following output after building your site:"
   ]
  },
  {
   "cell_type": "code",
   "execution_count": 1,
   "id": "6e262097",
   "metadata": {},
   "outputs": [
    {
     "name": "stdout",
     "output_type": "stream",
     "text": [
      "This is some Python code!\n"
     ]
    }
   ],
   "source": [
    "a = \"This is some\"\n",
    "b = \"Python code!\"\n",
    "print(f\"{a} {b}\")"
   ]
  },
  {
   "cell_type": "markdown",
   "id": "f78338be",
   "metadata": {},
   "source": [
    "### Cell-level metadata\n",
    "\n",
    "You can begin `code-cell` blocks with top-matter metadata. These will be used\n",
    "as **cell-level metadata** in the resulting notebook cell.\n",
    "The same metadata tags can be used as you would in a normal notebook,\n",
    "for example those discussed in {ref}`use/hiding/code`:\n",
    "\n",
    "````md\n",
    "```{code-cell} ipython3\n",
    "---\n",
    "tags: [hide-output]\n",
    "---\n",
    "for i in range(20):\n",
    "    print(\"Millhouse did not test cootie positive\")\n",
    "```\n",
    "````\n",
    "\n",
    "Yields the following:"
   ]
  },
  {
   "cell_type": "code",
   "execution_count": 2,
   "id": "9c8a5e2e",
   "metadata": {
    "tags": [
     "hide-output"
    ]
   },
   "outputs": [
    {
     "name": "stdout",
     "output_type": "stream",
     "text": [
      "Millhouse did not test cootie positive\n",
      "Millhouse did not test cootie positive\n",
      "Millhouse did not test cootie positive\n",
      "Millhouse did not test cootie positive\n",
      "Millhouse did not test cootie positive\n",
      "Millhouse did not test cootie positive\n",
      "Millhouse did not test cootie positive\n",
      "Millhouse did not test cootie positive\n",
      "Millhouse did not test cootie positive\n",
      "Millhouse did not test cootie positive\n",
      "Millhouse did not test cootie positive\n",
      "Millhouse did not test cootie positive\n",
      "Millhouse did not test cootie positive\n",
      "Millhouse did not test cootie positive\n",
      "Millhouse did not test cootie positive\n",
      "Millhouse did not test cootie positive\n",
      "Millhouse did not test cootie positive\n",
      "Millhouse did not test cootie positive\n",
      "Millhouse did not test cootie positive\n",
      "Millhouse did not test cootie positive\n"
     ]
    }
   ],
   "source": [
    "for i in range(20):\n",
    "    print(\"Millhouse did not test cootie positive\")"
   ]
  },
  {
   "cell_type": "markdown",
   "id": "54ae00d5",
   "metadata": {},
   "source": [
    "There is also an **alternative short-hand syntax** for cell-level metadata. This takes\n",
    "the following form:\n",
    "\n",
    "````md\n",
    "```{code-cell}\n",
    ":key: val\n",
    "print(\"hi\")\n",
    "```\n",
    "````\n",
    "\n",
    "For example, the following syntax adds a `raises-exception` tag to the cell, which\n",
    "means our code will execute without halting the kernel:\n",
    "\n",
    "````md\n",
    "```{code-cell} ipython3\n",
    ":tags: [raises-exception]\n",
    "\n",
    "raise ValueError(\"oopsie!\")\n",
    "```\n",
    "````"
   ]
  },
  {
   "cell_type": "code",
   "execution_count": 3,
   "id": "f5d76259",
   "metadata": {
    "tags": [
     "raises-exception"
    ]
   },
   "outputs": [
    {
     "ename": "ValueError",
     "evalue": "oopsie!",
     "output_type": "error",
     "traceback": [
      "\u001b[0;31m---------------------------------------------------------------------------\u001b[0m",
      "\u001b[0;31mValueError\u001b[0m                                Traceback (most recent call last)",
      "Input \u001b[0;32mIn [3]\u001b[0m, in \u001b[0;36m<cell line: 1>\u001b[0;34m()\u001b[0m\n\u001b[0;32m----> 1\u001b[0m \u001b[38;5;28;01mraise\u001b[39;00m \u001b[38;5;167;01mValueError\u001b[39;00m(\u001b[38;5;124m\"\u001b[39m\u001b[38;5;124moopsie!\u001b[39m\u001b[38;5;124m\"\u001b[39m)\n",
      "\u001b[0;31mValueError\u001b[0m: oopsie!"
     ]
    }
   ],
   "source": [
    "raise ValueError(\"oopsie!\")"
   ]
  },
  {
   "cell_type": "markdown",
   "id": "063723f7",
   "metadata": {},
   "source": [
    "(converting-ipynb)=\n",
    "## Convert between MyST notebooks and `.ipynb`\n",
    "\n",
    "MyST notebooks can be converted to Jupyter notebooks using the `mystnb-to-jupyter` CLI command.\n",
    "\n",
    "```console\n",
    "$ mystnb-to-jupyter path/to/text-notebook.md\n",
    "Wrote notebook to: path/to/text-notebook.ipynb\n",
    "```\n",
    "\n",
    "MyST notebooks can also be converted back-and-forth from `ipynb` files using [jupytext](https://jupytext.readthedocs.io),\n",
    "a Python library for two-way conversion of `ipynb` files with many text-based formats.\n",
    "\n",
    "To let jupytext know the format of the notebook, add the notebook top-matter similar to:\n",
    "\n",
    "```yaml\n",
    "---\n",
    "kernelspec:\n",
    "  name: python3\n",
    "  display_name: python3\n",
    "jupytext:\n",
    "  text_representation:\n",
    "    extension: .md\n",
    "    format_name: myst\n",
    "    format_version: '0.13'\n",
    "    jupytext_version: 1.13.8\n",
    "---\n",
    "```\n",
    "\n",
    "Then you can run:\n",
    "\n",
    "- To convert `.ipynb` to a MyST notebook, run: `jupytext notebook.ipynb --to myst`\n",
    "- To convert a MyST notebook to `.ipynb`, run: `jupytext mystfile.md --to ipynb`\n",
    "\n",
    ":::{seealso}\n",
    "For more information, see the [Jupytext Documentation](https://jupytext.readthedocs.io),\n",
    "and specifically the [MyST Markdown format](https://jupytext.readthedocs.io/en/latest/formats.html#myst-markdown).\n",
    ":::\n",
    "\n",
    "(myst-nb/jupyter-interfaces)=\n",
    "## MyST notebooks in Jupyter interfaces\n",
    "\n",
    "You can use MyST notebooks in Jupyter interfaces by using Jupytext extensions. This\n",
    "allows you to open a MyST Markdown Notebook as a \"regular\" Jupyter Notebook in\n",
    "Jupyter Lab and the Classic Notebook interface. For more information, see\n",
    "[the Jupytext documentation](https://jupytext.readthedocs.io).\n",
    "\n",
    "(myst-nb/jupyter-book)=\n",
    "## MyST notebooks in Jupyter Book\n",
    "\n",
    "In addition to using MyST notebooks with Sphinx, you may also use them with the\n",
    "Jupyter Book project. See {doc}`jb:file-types/myst-notebooks`.\n",
    "\n",
    "## Code from Files\n",
    "\n",
    "```{warning}\n",
    "This is an experimental feature that is **not** part of the core `MyST` markup specification, and may be removed in the future. Using `:load:` will also overwrite any code written into the directive.\n",
    "```\n",
    "\n",
    "`myst_nb` provides a convenience feature for importing executable code into a `{code-cell}`\n",
    "from a file. This can be useful when you want to share code between documents. To do this\n",
    "you specify a `load` metadata attribute such as:\n",
    "\n",
    "````md\n",
    "```{code-cell} ipython3\n",
    ":load: <path>\n",
    "```\n",
    "````"
   ]
  }
 ],
 "metadata": {
  "file_format": "mystnb",
  "kernelspec": {
   "display_name": "python3",
   "name": "python3"
  },
  "language_info": {
   "codemirror_mode": {
    "name": "ipython",
    "version": 3
   },
   "file_extension": ".py",
   "mimetype": "text/x-python",
   "name": "python",
   "nbconvert_exporter": "python",
   "pygments_lexer": "ipython3",
   "version": "3.10.4"
  },
  "source_map": [
   5,
   85,
   89,
   110,
   116,
   139,
   143
  ]
 },
 "nbformat": 4,
 "nbformat_minor": 5
}