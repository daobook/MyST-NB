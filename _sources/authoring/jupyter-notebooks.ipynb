{
 "cells": [
  {
   "cell_type": "markdown",
   "id": "0ad35e6d",
   "metadata": {},
   "source": [
    "(authoring/jupyter-notebooks)=\n",
    "# Jupyter Notebooks\n",
    "\n",
    "This notebook is a demonstration of directly-parsing Jupyter Notebooks into\n",
    "Sphinx using the MyST parser.[^download]\n",
    "\n",
    "[^download]: This notebook can be downloaded as **{nb-download}`jupyter-notebooks.ipynb`** and {download}`jupyter-notebooks.md`\n",
    "\n",
    "## Markdown\n",
    "\n",
    ":::{seealso}\n",
    "For more information about what you can write with MyST Markdown, see the\n",
    "[MyST Parser syntax guide](myst:syntax/syntax).\n",
    ":::\n",
    "\n",
    "### Configuration\n",
    "\n",
    "The MyST-NB parser derives from [the base MyST-Parser](myst:intro/get-started), and so all the same configuration options are available.\n",
    "See the [MyST configuration options](myst:sphinx/config-options) for the full set of options, and [MyST syntax guide](myst:example_syntax) for all the syntax options.\n",
    "\n",
    "To build documentation from this notebook, the following options are set:\n",
    "\n",
    "```python\n",
    "myst_enable_extensions = [\n",
    "    \"amsmath\",\n",
    "    \"colon_fence\",\n",
    "    \"deflist\",\n",
    "    \"dollarmath\",\n",
    "    \"html_image\",\n",
    "]\n",
    "myst_url_schemes = (\"http\", \"https\", \"mailto\")\n",
    "```\n",
    "\n",
    ":::{note}\n",
    "Loading the `myst_nb` extension also activates the [`myst_parser`](myst:index) extension, for enabling the MyST flavour of Markdown.\n",
    "It is not required to add this explicitly in the list of `extensions`.\n",
    ":::\n",
    "\n",
    "### Syntax\n",
    "\n",
    "As you can see, markdown is parsed as expected. Embedding images should work as expected.\n",
    "For example, here's the MyST-NB logo:\n",
    "\n",
    "```md\n",
    "![myst-nb logo](../_static/logo-wide.svg)\n",
    "```\n",
    "\n",
    "![myst-nb logo](../_static/logo-wide.svg)\n",
    "\n",
    "By adding `\"html_image\"` to the `myst_enable_extensions` list in the sphinx configuration ([see here](myst:syntax/images)), you can even add HTML `img` tags with attributes:\n",
    "\n",
    "```html\n",
    "<img src=\"../_static/logo-wide.svg\" alt=\"logo\" width=\"200px\" class=\"shadow mb-2\">\n",
    "```\n",
    "\n",
    "<img src=\"../_static/logo-wide.svg\" alt=\"logo\" width=\"200px\"  class=\"shadow mb-2\">\n",
    "\n",
    "Because MyST-NB is using the MyST-markdown parser, you can include rich markdown with Sphinx in your notebook.\n",
    "For example, here's a note admonition block:\n",
    "\n",
    ":::::{note}\n",
    "**Wow**, a note!\n",
    "It was generated with this code ([as explained here](myst:syntax/admonitions)):\n",
    "\n",
    "````md\n",
    ":::{note}\n",
    "**Wow**, a note!\n",
    ":::\n",
    "````\n",
    "\n",
    ":::::\n",
    "\n",
    "If you wish to use \"bare\" LaTeX equations, then you should add `\"amsmath\"` to the `myst_enable_extensions` list in the sphinx configuration.\n",
    "This is [explained here](myst:syntax/amsmath), and works as such:\n",
    "\n",
    "```latex\n",
    "\\begin{equation}\n",
    "\\frac {\\partial u}{\\partial x} + \\frac{\\partial v}{\\partial y} = - \\, \\frac{\\partial w}{\\partial z}\n",
    "\\end{equation}\n",
    "\n",
    "\\begin{align*}\n",
    "2x - 5y &=  8 \\\\\n",
    "3x + 9y &=  -12\n",
    "\\end{align*}\n",
    "```\n",
    "\n",
    "\\begin{equation}\n",
    "\\frac {\\partial u}{\\partial x} + \\frac{\\partial v}{\\partial y} = - \\, \\frac{\\partial w}{\\partial z}\n",
    "\\end{equation}\n",
    "\n",
    "\\begin{align*}\n",
    "2x - 5y &=  8 \\\\\n",
    "3x + 9y &=  -12\n",
    "\\end{align*}\n",
    "\n",
    "Also you can use features like **equation numbering** and referencing in the notebooks:\n",
    "\n",
    "```md\n",
    "$$e^{i\\pi} + 1 = 0$$ (euler)\n",
    "```\n",
    "\n",
    "$$e^{i\\pi} + 1 = 0$$ (euler)\n",
    "\n",
    "Euler's identity, equation {math:numref}`euler`, was elected one of the\n",
    "most beautiful mathematical formulas.\n",
    "\n",
    "You can see the syntax used for this example [here in the MyST documentation](myst:syntax/math).\n",
    "\n",
    "## Code cells and outputs\n",
    "\n",
    "You can run cells, and the cell outputs will be captured and inserted into\n",
    "the resulting Sphinx site.\n",
    "\n",
    "### `__repr__` and HTML outputs\n",
    "\n",
    "For example, here's some simple Python:"
   ]
  },
  {
   "cell_type": "code",
   "execution_count": 1,
   "id": "5881d711",
   "metadata": {},
   "outputs": [
    {
     "data": {
      "text/plain": [
       "array([[37.53993847, 28.51928013, 65.28716608, 96.76989479, 31.24263789,\n",
       "        69.78170789, 65.75588276, 16.9084943 , 25.21929998, 91.74068576],\n",
       "       [61.90421731, 69.69016683, 43.21698348, 61.34420029, 59.07343975,\n",
       "        91.2156335 , 46.01012129, 74.65763321, 45.10372094, 25.39097562],\n",
       "       [50.37258871, 14.95512776,  6.97717938, 18.81010847, 52.16007424,\n",
       "        21.14683557, 47.14872853, 24.46804998, 57.88769894, 46.37914823]])"
      ]
     },
     "execution_count": 1,
     "metadata": {},
     "output_type": "execute_result"
    }
   ],
   "source": [
    "import matplotlib.pyplot as plt\n",
    "import numpy as np\n",
    "data = np.random.rand(3, 100) * 100\n",
    "data[:, :10]"
   ]
  },
  {
   "cell_type": "markdown",
   "id": "3e65d8c9",
   "metadata": {},
   "source": [
    "This will also work with HTML outputs"
   ]
  },
  {
   "cell_type": "code",
   "execution_count": 2,
   "id": "725aecae",
   "metadata": {},
   "outputs": [
    {
     "data": {
      "text/html": [
       "<div>\n",
       "<style scoped>\n",
       "    .dataframe tbody tr th:only-of-type {\n",
       "        vertical-align: middle;\n",
       "    }\n",
       "\n",
       "    .dataframe tbody tr th {\n",
       "        vertical-align: top;\n",
       "    }\n",
       "\n",
       "    .dataframe thead th {\n",
       "        text-align: right;\n",
       "    }\n",
       "</style>\n",
       "<table border=\"1\" class=\"dataframe\">\n",
       "  <thead>\n",
       "    <tr style=\"text-align: right;\">\n",
       "      <th></th>\n",
       "      <th>a</th>\n",
       "      <th>b</th>\n",
       "      <th>c</th>\n",
       "    </tr>\n",
       "  </thead>\n",
       "  <tbody>\n",
       "    <tr>\n",
       "      <th>0</th>\n",
       "      <td>37.539938</td>\n",
       "      <td>61.904217</td>\n",
       "      <td>50.372589</td>\n",
       "    </tr>\n",
       "    <tr>\n",
       "      <th>1</th>\n",
       "      <td>28.519280</td>\n",
       "      <td>69.690167</td>\n",
       "      <td>14.955128</td>\n",
       "    </tr>\n",
       "    <tr>\n",
       "      <th>2</th>\n",
       "      <td>65.287166</td>\n",
       "      <td>43.216983</td>\n",
       "      <td>6.977179</td>\n",
       "    </tr>\n",
       "    <tr>\n",
       "      <th>3</th>\n",
       "      <td>96.769895</td>\n",
       "      <td>61.344200</td>\n",
       "      <td>18.810108</td>\n",
       "    </tr>\n",
       "    <tr>\n",
       "      <th>4</th>\n",
       "      <td>31.242638</td>\n",
       "      <td>59.073440</td>\n",
       "      <td>52.160074</td>\n",
       "    </tr>\n",
       "  </tbody>\n",
       "</table>\n",
       "</div>"
      ],
      "text/plain": [
       "           a          b          c\n",
       "0  37.539938  61.904217  50.372589\n",
       "1  28.519280  69.690167  14.955128\n",
       "2  65.287166  43.216983   6.977179\n",
       "3  96.769895  61.344200  18.810108\n",
       "4  31.242638  59.073440  52.160074"
      ]
     },
     "execution_count": 2,
     "metadata": {},
     "output_type": "execute_result"
    }
   ],
   "source": [
    "import pandas as pd\n",
    "df = pd.DataFrame(data.T, columns=['a', 'b', 'c'])\n",
    "df.head()"
   ]
  },
  {
   "cell_type": "markdown",
   "id": "d536d6e6",
   "metadata": {},
   "source": [
    "as well as math outputs"
   ]
  },
  {
   "cell_type": "code",
   "execution_count": 3,
   "id": "0daed8eb",
   "metadata": {},
   "outputs": [
    {
     "data": {
      "text/latex": [
       "$\\displaystyle \\sum_{i=0}^n i^2 = \\frac{(n^2+n)(2n+1)}{6}$"
      ],
      "text/plain": [
       "<IPython.core.display.Math object>"
      ]
     },
     "execution_count": 3,
     "metadata": {},
     "output_type": "execute_result"
    }
   ],
   "source": [
    "from IPython.display import Math\n",
    "Math(r\"\\sum_{i=0}^n i^2 = \\frac{(n^2+n)(2n+1)}{6}\")"
   ]
  },
  {
   "cell_type": "markdown",
   "id": "53beecc9",
   "metadata": {},
   "source": [
    "This works for error messages as well:"
   ]
  },
  {
   "cell_type": "code",
   "execution_count": 4,
   "id": "017cfdf9",
   "metadata": {
    "tags": [
     "raises-exception"
    ]
   },
   "outputs": [
    {
     "name": "stdout",
     "output_type": "stream",
     "text": [
      "This will be properly printed...\n"
     ]
    },
    {
     "ename": "NameError",
     "evalue": "name 'thiswont' is not defined",
     "output_type": "error",
     "traceback": [
      "\u001b[0;31m---------------------------------------------------------------------------\u001b[0m",
      "\u001b[0;31mNameError\u001b[0m                                 Traceback (most recent call last)",
      "Input \u001b[0;32mIn [4]\u001b[0m, in \u001b[0;36m<cell line: 2>\u001b[0;34m()\u001b[0m\n\u001b[1;32m      1\u001b[0m \u001b[38;5;28mprint\u001b[39m(\u001b[38;5;124m\"\u001b[39m\u001b[38;5;124mThis will be properly printed...\u001b[39m\u001b[38;5;124m\"\u001b[39m)\n\u001b[0;32m----> 2\u001b[0m \u001b[38;5;28mprint\u001b[39m(\u001b[43mthiswont\u001b[49m)\n",
      "\u001b[0;31mNameError\u001b[0m: name 'thiswont' is not defined"
     ]
    }
   ],
   "source": [
    "print(\"This will be properly printed...\")\n",
    "print(thiswont)"
   ]
  },
  {
   "cell_type": "markdown",
   "id": "ee141055",
   "metadata": {},
   "source": [
    "### Images\n",
    "\n",
    "Images that are generated from your code (e.g., with Matplotlib) will also\n",
    "be embedded."
   ]
  },
  {
   "cell_type": "code",
   "execution_count": 5,
   "id": "5e0e63c6",
   "metadata": {},
   "outputs": [
    {
     "data": {
      "text/plain": [
       "<matplotlib.collections.PathCollection at 0x7f7a8eb12b60>"
      ]
     },
     "execution_count": 5,
     "metadata": {},
     "output_type": "execute_result"
    },
    {
     "data": {
      "image/png": "[encoded data removed]",
      "text/plain": [
       "<Figure size 432x288 with 1 Axes>"
      ]
     },
     "metadata": {
      "needs_background": "light"
     },
     "output_type": "display_data"
    }
   ],
   "source": [
    "fig, ax = plt.subplots()\n",
    "ax.scatter(*data, c=data[2])"
   ]
  },
  {
   "cell_type": "markdown",
   "id": "8b8a223f",
   "metadata": {},
   "source": [
    "## Raw cells\n",
    "\n",
    "The [raw cell type](https://nbformat.readthedocs.io/en/latest/format_description.html#raw-nbconvert-cells) can be used to specifically render the content as a specific [MIME media type](https://developer.mozilla.org/en-US/docs/Web/HTTP/Basics_of_HTTP/MIME_types).\n",
    "\n",
    "````markdown\n",
    "```{raw-cell}\n",
    ":format: text/html\n",
    "\n",
    "<p>My cat is <strong>very</strong> grumpy.</p>\n",
    "```\n",
    "````"
   ]
  },
  {
   "cell_type": "raw",
   "id": "9880c66a",
   "metadata": {
    "format": "text/html"
   },
   "source": [
    "<p>My cat is <strong>very</strong> grumpy.</p>"
   ]
  }
 ],
 "metadata": {
  "file_format": "mystnb",
  "kernelspec": {
   "display_name": "python3",
   "name": "python3"
  },
  "language_info": {
   "codemirror_mode": {
    "name": "ipython",
    "version": 3
   },
   "file_extension": ".py",
   "mimetype": "text/x-python",
   "name": "python",
   "nbconvert_exporter": "python",
   "pygments_lexer": "ipython3",
   "version": "3.10.4"
  },
  "source_map": [
   5,
   124,
   129,
   133,
   137,
   141,
   144,
   148,
   153,
   160,
   163,
   177
  ]
 },
 "nbformat": 4,
 "nbformat_minor": 5
}