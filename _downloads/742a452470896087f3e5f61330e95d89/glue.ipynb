{
 "cells": [
  {
   "cell_type": "markdown",
   "id": "e3926ed8",
   "metadata": {},
   "source": [
    "(glue/main)=\n",
    "\n",
    "# Saving variables to embed (glue)\n",
    "\n",
    "The `glue` submodule allows you to store variables in the notebooks outputs, by keys,\n",
    "then reference those keys to embed the outputs inline of your text content.[^download]\n",
    "\n",
    "[^download]: This notebook can be downloaded as **{nb-download}`glue.ipynb`** and {download}`glue.md`\n",
    "\n",
    ":::{versionchanged} 0.14.0\n",
    "The `glue` roles and directives now only identify keys in the same notebook, by default.\n",
    "To glue keys from other notebooks, see {ref}`glue/crossdoc`.\n",
    ":::"
   ]
  },
  {
   "cell_type": "markdown",
   "id": "5cd06d5c",
   "metadata": {},
   "source": [
    "(glue/gluing)=\n",
    "\n",
    "## Save variables in code cells\n",
    "\n",
    "You can use `myst_nb.glue()` to assign the output of a variable to a key of your choice.\n",
    "`glue` will store all of the information that is normally used to display that variable (ie, whatever happens when you display the variable by putting it at the end of a cell).\n",
    "Choose a key that you will remember, as you will use it later.\n",
    "\n",
    "The following code glues a variable inside the notebook:"
   ]
  },
  {
   "cell_type": "code",
   "execution_count": 1,
   "id": "8320c63c",
   "metadata": {},
   "outputs": [
    {
     "data": {
      "text/plain": [
       "'my variable!'"
      ]
     },
     "metadata": {
      "scrapbook": {
       "mime_prefix": "",
       "name": "my_variable"
      }
     },
     "output_type": "display_data"
    }
   ],
   "source": [
    "from myst_nb import glue\n",
    "a = \"my variable!\"\n",
    "glue(\"my_variable\", a)"
   ]
  },
  {
   "cell_type": "markdown",
   "id": "effb8eed",
   "metadata": {},
   "source": [
    "You can then insert it into your text like so: {glue}`my_variable`.\n",
    "\n",
    "That was accomplished with the following code: `` {glue}`my_variable` ``.\n",
    "\n",
    "### Saving different variable types\n",
    "\n",
    "You can glue anything in your notebook and display it later with `{glue}`.\n",
    "Here we'll show how to glue and paste **numbers and images**.\n",
    "We'll simulate some data and run a simple bootstrap on it.\n",
    "We'll hide most of this process below, to focus on the glueing part."
   ]
  },
  {
   "cell_type": "code",
   "execution_count": 2,
   "id": "2f7d0708",
   "metadata": {
    "tags": [
     "hide-cell"
    ]
   },
   "outputs": [],
   "source": [
    "# Simulate some data and bootstrap the mean of the data\n",
    "import numpy as np\n",
    "import pandas as pd\n",
    "import matplotlib.pyplot as plt\n",
    "\n",
    "n_points = 10000\n",
    "n_boots = 1000\n",
    "mean, sd = (3, .2)\n",
    "data = sd*np.random.randn(n_points) + mean\n",
    "bootstrap_indices = np.random.randint(0, n_points, n_points*n_boots).reshape((n_boots, n_points))"
   ]
  },
  {
   "cell_type": "markdown",
   "id": "0110153d",
   "metadata": {},
   "source": [
    "In the cell below, `data` contains our data, and `bootstrap_indices` is a collection of sample indices in each bootstrap.\n",
    "Below we'll calculate a few statistics of interest, and `glue()` them into the notebook."
   ]
  },
  {
   "cell_type": "code",
   "execution_count": 3,
   "id": "f08e8be4",
   "metadata": {},
   "outputs": [
    {
     "data": {
      "text/plain": [
       "2.9988077694949724"
      ]
     },
     "metadata": {
      "scrapbook": {
       "mime_prefix": "",
       "name": "boot_mean"
      }
     },
     "output_type": "display_data"
    },
    {
     "data": {
      "text/plain": [
       "2.9862978848906305"
      ]
     },
     "metadata": {
      "scrapbook": {
       "mime_prefix": "",
       "name": "boot_clo"
      }
     },
     "output_type": "display_data"
    },
    {
     "data": {
      "text/plain": [
       "3.011351340649854"
      ]
     },
     "metadata": {
      "scrapbook": {
       "mime_prefix": "",
       "name": "boot_chi"
      }
     },
     "output_type": "display_data"
    }
   ],
   "source": [
    "# Calculate the mean of a bunch of random samples\n",
    "means = data[bootstrap_indices].mean(0)\n",
    "# Calcualte the 95% confidence interval for the mean\n",
    "clo, chi = np.percentile(means, [2.5, 97.5])\n",
    "\n",
    "# Store the values in our notebook\n",
    "glue(\"boot_mean\", means.mean())\n",
    "glue(\"boot_clo\", clo)\n",
    "glue(\"boot_chi\", chi)"
   ]
  },
  {
   "cell_type": "markdown",
   "id": "536de421",
   "metadata": {},
   "source": [
    "By default, `glue` will display the value of the variable you are gluing.\n",
    "This is useful for sanity-checking its value at glue-time.\n",
    "If you'd like to **prevent display**, use the `display=False` option.\n",
    "Note that below, we also *overwrite* the value of `boot_chi` (but using the same value):"
   ]
  },
  {
   "cell_type": "code",
   "execution_count": 4,
   "id": "1f9bbe51",
   "metadata": {},
   "outputs": [],
   "source": [
    "glue(\"boot_chi_notdisplayed\", chi, display=False)"
   ]
  },
  {
   "cell_type": "markdown",
   "id": "e0c45479",
   "metadata": {},
   "source": [
    "You can also glue visualizations, such as matplotlib figures (here we use `display=False` to ensure that the figure isn't plotted twice):"
   ]
  },
  {
   "cell_type": "code",
   "execution_count": 5,
   "id": "916ab544",
   "metadata": {},
   "outputs": [
    {
     "data": {
      "image/png": "[encoded data removed]",
      "text/plain": [
       "<Figure size 432x288 with 1 Axes>"
      ]
     },
     "metadata": {
      "needs_background": "light"
     },
     "output_type": "display_data"
    },
    {
     "data": {
      "image/png": "[encoded data removed]",
      "text/plain": [
       "<Figure size 432x144 with 1 Axes>"
      ]
     },
     "metadata": {
      "needs_background": "light"
     },
     "output_type": "display_data"
    }
   ],
   "source": [
    "# Visualize the historgram with the intervals\n",
    "fig, ax = plt.subplots()\n",
    "ax.hist(means)\n",
    "for ln in [clo, chi]:\n",
    "    ax.axvline(ln, ls='--', c='r')\n",
    "ax.set_title(\"Bootstrap distribution and 95% CI\")\n",
    "\n",
    "# And a wider figure to show a timeseries\n",
    "fig2, ax = plt.subplots(figsize=(6, 2))\n",
    "ax.plot(np.sort(means), lw=3, c='r')\n",
    "ax.set_axis_off()\n",
    "\n",
    "glue(\"boot_fig\", fig, display=False)\n",
    "glue(\"sorted_means_fig\", fig2, display=False)"
   ]
  },
  {
   "cell_type": "markdown",
   "id": "aa34d340",
   "metadata": {},
   "source": [
    "The same can be done for DataFrames (or other table-like objects) as well."
   ]
  },
  {
   "cell_type": "code",
   "execution_count": 6,
   "id": "047014ed",
   "metadata": {},
   "outputs": [
    {
     "data": {
      "text/html": [
       "<div>\n",
       "<style scoped>\n",
       "    .dataframe tbody tr th:only-of-type {\n",
       "        vertical-align: middle;\n",
       "    }\n",
       "\n",
       "    .dataframe tbody tr th {\n",
       "        vertical-align: top;\n",
       "    }\n",
       "\n",
       "    .dataframe thead th {\n",
       "        text-align: right;\n",
       "    }\n",
       "</style>\n",
       "<table border=\"1\" class=\"dataframe\">\n",
       "  <thead>\n",
       "    <tr style=\"text-align: right;\">\n",
       "      <th></th>\n",
       "      <th>first</th>\n",
       "      <th>second</th>\n",
       "      <th>third</th>\n",
       "    </tr>\n",
       "  </thead>\n",
       "  <tbody>\n",
       "    <tr>\n",
       "      <th>0</th>\n",
       "      <td>3.148463</td>\n",
       "      <td>3.265956</td>\n",
       "      <td>2.740414</td>\n",
       "    </tr>\n",
       "    <tr>\n",
       "      <th>1</th>\n",
       "      <td>3.335310</td>\n",
       "      <td>3.065459</td>\n",
       "      <td>3.065270</td>\n",
       "    </tr>\n",
       "    <tr>\n",
       "      <th>2</th>\n",
       "      <td>2.894552</td>\n",
       "      <td>3.196336</td>\n",
       "      <td>3.207565</td>\n",
       "    </tr>\n",
       "    <tr>\n",
       "      <th>3</th>\n",
       "      <td>3.269309</td>\n",
       "      <td>3.000257</td>\n",
       "      <td>3.320015</td>\n",
       "    </tr>\n",
       "    <tr>\n",
       "      <th>4</th>\n",
       "      <td>2.910223</td>\n",
       "      <td>2.901953</td>\n",
       "      <td>2.841575</td>\n",
       "    </tr>\n",
       "  </tbody>\n",
       "</table>\n",
       "</div>"
      ],
      "text/plain": [
       "      first    second     third\n",
       "0  3.148463  3.265956  2.740414\n",
       "1  3.335310  3.065459  3.065270\n",
       "2  2.894552  3.196336  3.207565\n",
       "3  3.269309  3.000257  3.320015\n",
       "4  2.910223  2.901953  2.841575"
      ]
     },
     "metadata": {
      "scrapbook": {
       "mime_prefix": "",
       "name": "df_tbl"
      }
     },
     "output_type": "display_data"
    }
   ],
   "source": [
    "bootstrap_subsets = data[bootstrap_indices][:3, :5].T\n",
    "df = pd.DataFrame(bootstrap_subsets, columns=[\"first\", \"second\", \"third\"])\n",
    "glue(\"df_tbl\", df)"
   ]
  },
  {
   "cell_type": "markdown",
   "id": "03c0ee83",
   "metadata": {},
   "source": [
    "```{tip}\n",
    "Since we are going to paste this figure into our document at a later point,\n",
    "you may wish to remove the output here, using the `remove-output` tag\n",
    "(see {ref}`use/removing`).\n",
    "```"
   ]
  },
  {
   "cell_type": "markdown",
   "id": "f079d075",
   "metadata": {},
   "source": [
    "(glue/pasting)=\n",
    "\n",
    "## Embedding variables in the page\n",
    "\n",
    "Once you have glued variables into a notebook, you can then **paste**\n",
    "those variables into your text in your book anywhere you like (even on other pages).\n",
    "These variables can be pasted using one of the roles or directives in the `glue:` *family*."
   ]
  },
  {
   "cell_type": "markdown",
   "id": "3bb6e6b8",
   "metadata": {},
   "source": [
    "### The `glue` role/directive\n",
    "\n",
    "The simplest role and directive are `glue` (a.k.a. `glue:any`),\n",
    "which paste the glued output inline or as a block respectively,\n",
    "with no additional formatting.\n",
    "Simply add:\n",
    "\n",
    "````\n",
    "```{glue} your-key\n",
    "```\n",
    "````\n",
    "\n",
    "For example, we'll paste the plot we generated above with the following text:\n",
    "\n",
    "````md\n",
    "```{glue} boot_fig\n",
    "```\n",
    "````\n",
    "\n",
    "Here's how it looks:\n",
    "\n",
    "```{glue} boot_fig\n",
    "```\n",
    "\n",
    "Or we can paste inline objects like so:\n",
    "\n",
    "```md\n",
    "Inline text; {glue}`boot_mean`, and figure; {glue}`boot_fig`.\n",
    "```\n",
    "\n",
    "Inline text; {glue}`boot_mean`, and figure; {glue}`boot_fig`.\n",
    "\n",
    "```{tip}\n",
    "We recommend using wider, shorter figures when plotting in-line, with a ratio\n",
    "around 6x2. For example, here's is an in-line figure of sorted means\n",
    "from our bootstrap: {glue}`sorted_means_fig`.\n",
    "It can be used to make a visual point that isn't too complex! For more\n",
    "ideas, check out [how sparklines are used](https://en.wikipedia.org/wiki/Sparkline).\n",
    "```\n",
    "\n",
    "Next we'll cover some more specific pasting functionality, which gives you more\n",
    "control over how the outputs look in your pages."
   ]
  },
  {
   "cell_type": "markdown",
   "id": "147698d5",
   "metadata": {},
   "source": [
    "## Controlling the output format\n",
    "\n",
    "You can control the pasted outputs by using a sub-command of `{glue}`.\n",
    "These are called like so: `` {glue:subcommand}`key` ``.\n",
    "These subcommands allow you to control more of the look, feel, and content of the pasted output.\n",
    "\n",
    "```{tip}\n",
    "When you use `{glue}` you are actually using a short-hand for `{glue:any}`. This is a\n",
    "generic command that doesn't make many assumptions about what you are gluing.\n",
    "```"
   ]
  },
  {
   "cell_type": "markdown",
   "id": "3dde05df",
   "metadata": {},
   "source": [
    "### The `glue:text` role\n",
    "\n",
    "The `glue:text` role, is specific to `text/plain` outputs.\n",
    "For example, the following text:\n",
    "\n",
    "```md\n",
    "The mean of the bootstrapped distribution was {glue:text}`boot_mean` (95% confidence interval {glue:text}`boot_clo`/{glue:text}`boot_chi`).\n",
    "```\n",
    "\n",
    "Is rendered as:\n",
    "\n",
    "The mean of the bootstrapped distribution was {glue:text}`boot_mean` (95% confidence interval {glue:text}`boot_clo`/{glue:text}`boot_chi`)\n",
    "\n",
    "```{note}\n",
    "`glue:text` only works with glued variables that contain a `text/plain` output.\n",
    "```\n",
    "\n",
    "With `glue:text` we can add formatting to the output, by specifying a format spec string after a `:`: `` {glue:text}`mykey:<format_spec>` ``\n",
    "\n",
    "The `<format_spec>` should be a valid [Python format specifier](https://docs.python.org/3/library/string.html#format-specification-mini-language).\n",
    "\n",
    "This is particularly useful if you are displaying numbers and want to round the results.\n",
    "For example, the following: ``My rounded mean: {glue:text}`boot_mean:.2f` `` will be rendered like this:\n",
    "\n",
    "My rounded mean: {glue:text}`boot_mean:.2f` (95% CI: {glue:text}`boot_clo:.2f`/{glue:text}`boot_chi:.2f`)."
   ]
  },
  {
   "cell_type": "markdown",
   "id": "7826955b",
   "metadata": {},
   "source": [
    "### The `glue:figure` directive\n",
    "\n",
    "With `glue:figure` you can apply more formatting to figure like objects,\n",
    "such as giving them a caption and referenceable label:\n",
    "\n",
    ":::{table} `glue:figure` directive options\n",
    "| Option | Type | Description |\n",
    "| ------ | ---- | ----------- |\n",
    "| alt | text | Alternate text of an image |\n",
    "| height | length | The desired height of an image |\n",
    "| width | length or percentage | The width of an image |\n",
    "| scale | percentage | The uniform scaling factor of an image |\n",
    "| class | text | A space-separated list of class names for the image |\n",
    "| figwidth | length or percentage | The width of the figure |\n",
    "| figclass | text | A space-separated list of class names for the figure |\n",
    "| align | text | left, center, or right |\n",
    "| name | text | referenceable label for the figure |\n",
    ":::\n",
    "\n",
    "````md\n",
    "```{glue:figure} boot_fig\n",
    ":alt: \"Alternative title\"\n",
    ":figwidth: 300px\n",
    ":name: \"fig-boot\"\n",
    "\n",
    "This is a **caption**, with an embedded `{glue:text}` element: {glue:text}`boot_mean:.2f`!\n",
    "```\n",
    "````\n",
    "\n",
    "```{glue:figure} boot_fig\n",
    ":alt: \"Alternative title\"\n",
    ":figwidth: 300px\n",
    ":name: \"fig-boot\"\n",
    "\n",
    "This is a **caption**, with an embedded `{glue:text}` element: {glue:text}`boot_mean:.2f`!\n",
    "```\n",
    "\n",
    "```md\n",
    "Here is a {ref}`reference to the figure <fig-boot>`\n",
    "```\n",
    "\n",
    "Here is a {ref}`reference to the figure <fig-boot>`"
   ]
  },
  {
   "cell_type": "markdown",
   "id": "71e6c535",
   "metadata": {},
   "source": [
    "Here's a table:\n",
    "\n",
    "````md\n",
    "```{glue:figure} df_tbl\n",
    ":figwidth: 300px\n",
    ":name: \"tbl:df\"\n",
    "\n",
    "A caption for a pandas table.\n",
    "```\n",
    "\n",
    "````\n",
    "```{glue:figure} df_tbl\n",
    ":figwidth: 300px\n",
    ":name: \"tbl:df\"\n",
    "\n",
    "A caption for a pandas table.\n",
    "```"
   ]
  },
  {
   "cell_type": "markdown",
   "id": "784b5691",
   "metadata": {},
   "source": [
    "### The `glue:math` directive\n",
    "\n",
    "The `glue:math` directive, is specific to latex math outputs\n",
    "(glued variables that contain a `text/latex` mimetype),\n",
    "and works similarly to the [sphinx math directive](https://www.sphinx-doc.org/en/1.8/usage/restructuredtext/directives.html#math).\n",
    "\n",
    ":::{table} `glue:math` directive options\n",
    "| Option | Type | Description |\n",
    "| ------ | ---- | ----------- |\n",
    "| nowrap | flag | Prevent any wrapping of the given math in a math environment |\n",
    "| class | text | A space-separated list of class names |\n",
    "| label or name | text | referenceable label for the figure |\n",
    ":::"
   ]
  },
  {
   "cell_type": "code",
   "execution_count": 7,
   "id": "9faa738d",
   "metadata": {},
   "outputs": [
    {
     "data": {
      "text/latex": [
       "$\\displaystyle \\left(\\sqrt{5} i\\right)^{\\alpha} \\left(\\frac{1}{2} - \\frac{2 \\sqrt{5} i}{5}\\right) + \\left(- \\sqrt{5} i\\right)^{\\alpha} \\left(\\frac{1}{2} + \\frac{2 \\sqrt{5} i}{5}\\right)$"
      ],
      "text/plain": [
       "(sqrt(5)*I)**\\alpha*(1/2 - 2*sqrt(5)*I/5) + (-sqrt(5)*I)**\\alpha*(1/2 + 2*sqrt(5)*I/5)"
      ]
     },
     "metadata": {
      "scrapbook": {
       "mime_prefix": "",
       "name": "sym_eq"
      }
     },
     "output_type": "display_data"
    }
   ],
   "source": [
    "import sympy as sym\n",
    "f = sym.Function('f')\n",
    "y = sym.Function('y')\n",
    "n = sym.symbols(r'\\alpha')\n",
    "f = y(n)-2*y(n-1/sym.pi)-5*y(n-2)\n",
    "glue(\"sym_eq\", sym.rsolve(f,y(n),[1,4]))"
   ]
  },
  {
   "cell_type": "markdown",
   "id": "850cd9ec",
   "metadata": {},
   "source": [
    "````md\n",
    "Insert the equation here:\n",
    "\n",
    "```{glue:math} sym_eq\n",
    ":label: eq-sym\n",
    "```\n",
    "\n",
    "Which we reference as Equation {eq}`eq-sym`\n",
    "````\n",
    "\n",
    "Insert the equation here:\n",
    "\n",
    "```{glue:math} sym_eq\n",
    ":label: eq-sym\n",
    "```\n",
    "\n",
    "Which we reference as Equation {eq}`eq-sym`.\n",
    "\n",
    "```{note}\n",
    "`glue:math` only works with glued variables that contain a `text/latex` output.\n",
    "```\n",
    "\n",
    "### The `glue:md` role/directive\n",
    "\n",
    "With `glue:md`, you can output `text/markdown`, that will be integrated into your page."
   ]
  },
  {
   "cell_type": "code",
   "execution_count": 8,
   "id": "4a341f25",
   "metadata": {},
   "outputs": [],
   "source": [
    "from IPython.display import Markdown\n",
    "glue(\"inline_md\", Markdown(\n",
    "  \"inline **markdown** with a [link](glue/main), \"\n",
    "  \"and a nested glue value: {glue}`boot_mean`\"\n",
    "), display=False)\n",
    "glue(\"block_md\", Markdown(\"\"\"\n",
    "#### A heading\n",
    "\n",
    "Then some text, and anything nested.\n",
    "\n",
    "```python\n",
    "print(\"Hello world!\")\n",
    "```\n",
    "\"\"\"\n",
    "), display=False)"
   ]
  },
  {
   "cell_type": "markdown",
   "id": "1d3b901a",
   "metadata": {},
   "source": [
    "The format of the markdown can be specified as:\n",
    "\n",
    "- `commonmark` (default): Restricted to the [CommonMark specification](https://commonmark.org/).\n",
    "- `gfm`: Restricted to the [GitHub-flavored markdown](https://github.github.com/gfm/).\n",
    "  - Note, this requires the installation of the [linkify-it-py package](https://pypi.org/project/linkify-it-py)\n",
    "- `myst`: The MyST parser configuration for the the current document.\n",
    "\n",
    "For example, the following role/directive will glue inline/block MyST Markdown, as if it was part of the original document.\n",
    "\n",
    "````md\n",
    "Here is some {glue:md}`inline_md:myst`!\n",
    "\n",
    "```{glue:md} block_md\n",
    ":format: myst\n",
    "```\n",
    "````\n",
    "\n",
    "Here is some {glue:md}`inline_md:myst`!\n",
    "\n",
    "```{glue:md} block_md\n",
    ":format: myst\n",
    "```"
   ]
  },
  {
   "cell_type": "markdown",
   "id": "329bdfe7",
   "metadata": {},
   "source": [
    "(glue/crossdoc)=\n",
    "## Embedding outputs from other pages\n",
    "\n",
    "Certain `glue` roles and directives can be used to paste content from other notebooks,\n",
    "by specifying the (relative) path to them.\n",
    "\n",
    ":::{tip}\n",
    "Sometimes you'd like to use variables from notebooks that are not meant to be shown to users.\n",
    "In this case, you should bundle the notebook with the rest of your content pages, but include `orphan: true` in the metadata of the notebook.\n",
    ":::\n",
    "\n",
    "For example, the following example pastes glue variables from {ref}`orphaned-nb`:\n",
    "\n",
    "````markdown\n",
    "- A cross-pasted `any` role: {glue}`orphaned_nb.ipynb::var_text`\n",
    "- A cross-pasted `text` role: {glue:text}`orphaned_nb.ipynb::var_float:.2E`\n",
    "\n",
    "A cross-pasted `any` directive:\n",
    "\n",
    "```{glue} var_text\n",
    ":doc: orphaned_nb.ipynb\n",
    "```\n",
    "````\n",
    "\n",
    "- A cross-pasted `any` role: {glue}`orphaned_nb.ipynb::var_text`\n",
    "- A cross-pasted `text` role: {glue:text}`orphaned_nb.ipynb::var_float:.2E`\n",
    "\n",
    "A cross-pasted `any` directive:\n",
    "\n",
    "```{glue} var_text\n",
    ":doc: orphaned_nb.ipynb\n",
    "```"
   ]
  },
  {
   "cell_type": "markdown",
   "id": "45ceb2dd",
   "metadata": {},
   "source": [
    "## Advanced use-cases\n",
    "\n",
    "Here are a few more specific and advanced uses of the `glue` submodule.\n",
    "\n",
    "### Embedding into tables\n",
    "\n",
    "In addition to pasting blocks of outputs, or in-line with text, you can also paste directly\n",
    "into tables. This allows you to compose complex collections of structured data using outputs\n",
    "that were generated in other notebooks. For example the following table:\n",
    "\n",
    "````md\n",
    "| name                            |       plot                  | mean                      | ci                                                 |\n",
    "|:-------------------------------:|:---------------------------:|---------------------------|----------------------------------------------------|\n",
    "| histogram and raw text          | {glue}`boot_fig`           | {glue}`boot_mean`        | {glue}`boot_clo`-{glue}`boot_chi`                |\n",
    "| sorted means and formatted text | {glue}`sorted_means_fig`   | {glue:text}`boot_mean:.3f`| {glue:text}`boot_clo:.3f`-{glue:text}`boot_chi:.3f`|\n",
    "````\n",
    "\n",
    "Results in:\n",
    "\n",
    "| name                            |       plot                  | mean                      | ci                                                |\n",
    "|:-------------------------------:|:---------------------------:|---------------------------|---------------------------------------------------|\n",
    "| histogram and raw text          | {glue}`boot_fig`             | {glue}`boot_mean`          | {glue}`boot_clo`-{glue}`boot_chi`                   |\n",
    "| sorted means and formatted text | {glue}`sorted_means_fig`     | {glue:text}`boot_mean:.3f` | {glue:text}`boot_clo:.3f`-{glue:text}`boot_chi:.3f` |"
   ]
  }
 ],
 "metadata": {
  "file_format": "mystnb",
  "kernelspec": {
   "display_name": "python3",
   "name": "python3"
  },
  "language_info": {
   "codemirror_mode": {
    "name": "ipython",
    "version": 3
   },
   "file_extension": ".py",
   "mimetype": "text/x-python",
   "name": "python",
   "nbconvert_exporter": "python",
   "pygments_lexer": "ipython3",
   "version": "3.10.4"
  },
  "source_map": [
   5,
   21,
   33,
   37,
   52,
   65,
   70,
   80,
   87,
   89,
   93,
   108,
   112,
   116,
   124,
   134,
   179,
   192,
   220,
   265,
   285,
   301,
   308,
   336,
   352,
   377,
   412
  ]
 },
 "nbformat": 4,
 "nbformat_minor": 5
}