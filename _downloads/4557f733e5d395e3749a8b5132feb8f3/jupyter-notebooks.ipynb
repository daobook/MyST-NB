{
 "cells": [
  {
   "cell_type": "markdown",
   "id": "78737fd8",
   "metadata": {},
   "source": [
    "(authoring/jupyter-notebooks)=\n",
    "# Jupyter Notebooks\n",
    "\n",
    "This notebook is a demonstration of directly-parsing Jupyter Notebooks into\n",
    "Sphinx using the MyST parser.[^download]\n",
    "\n",
    "[^download]: This notebook can be downloaded as **{nb-download}`jupyter-notebooks.ipynb`** and {download}`jupyter-notebooks.md`\n",
    "\n",
    "## Markdown\n",
    "\n",
    ":::{seealso}\n",
    "For more information about what you can write with MyST Markdown, see the\n",
    "[MyST Parser syntax guide](myst:syntax/syntax).\n",
    ":::\n",
    "\n",
    "### Configuration\n",
    "\n",
    "The MyST-NB parser derives from [the base MyST-Parser](myst:intro/get-started), and so all the same configuration options are available.\n",
    "See the [MyST configuration options](myst:sphinx/config-options) for the full set of options, and [MyST syntax guide](myst:example_syntax) for all the syntax options.\n",
    "\n",
    "To build documentation from this notebook, the following options are set:\n",
    "\n",
    "```python\n",
    "myst_enable_extensions = [\n",
    "    \"amsmath\",\n",
    "    \"colon_fence\",\n",
    "    \"deflist\",\n",
    "    \"dollarmath\",\n",
    "    \"html_image\",\n",
    "]\n",
    "myst_url_schemes = (\"http\", \"https\", \"mailto\")\n",
    "```\n",
    "\n",
    ":::{note}\n",
    "Loading the `myst_nb` extension also activates the [`myst_parser`](myst:index) extension, for enabling the MyST flavour of Markdown.\n",
    "It is not required to add this explicitly in the list of `extensions`.\n",
    ":::\n",
    "\n",
    "### Syntax\n",
    "\n",
    "As you can see, markdown is parsed as expected. Embedding images should work as expected.\n",
    "For example, here's the MyST-NB logo:\n",
    "\n",
    "```md\n",
    "![myst-nb logo](../_static/logo-wide.svg)\n",
    "```\n",
    "\n",
    "![myst-nb logo](../_static/logo-wide.svg)\n",
    "\n",
    "By adding `\"html_image\"` to the `myst_enable_extensions` list in the sphinx configuration ([see here](myst:syntax/images)), you can even add HTML `img` tags with attributes:\n",
    "\n",
    "```html\n",
    "<img src=\"../_static/logo-wide.svg\" alt=\"logo\" width=\"200px\" class=\"shadow mb-2\">\n",
    "```\n",
    "\n",
    "<img src=\"../_static/logo-wide.svg\" alt=\"logo\" width=\"200px\"  class=\"shadow mb-2\">\n",
    "\n",
    "Because MyST-NB is using the MyST-markdown parser, you can include rich markdown with Sphinx in your notebook.\n",
    "For example, here's a note admonition block:\n",
    "\n",
    ":::::{note}\n",
    "**Wow**, a note!\n",
    "It was generated with this code ([as explained here](myst:syntax/admonitions)):\n",
    "\n",
    "````md\n",
    ":::{note}\n",
    "**Wow**, a note!\n",
    ":::\n",
    "````\n",
    "\n",
    ":::::\n",
    "\n",
    "If you wish to use \"bare\" LaTeX equations, then you should add `\"amsmath\"` to the `myst_enable_extensions` list in the sphinx configuration.\n",
    "This is [explained here](myst:syntax/amsmath), and works as such:\n",
    "\n",
    "```latex\n",
    "\\begin{equation}\n",
    "\\frac {\\partial u}{\\partial x} + \\frac{\\partial v}{\\partial y} = - \\, \\frac{\\partial w}{\\partial z}\n",
    "\\end{equation}\n",
    "\n",
    "\\begin{align*}\n",
    "2x - 5y &=  8 \\\\\n",
    "3x + 9y &=  -12\n",
    "\\end{align*}\n",
    "```\n",
    "\n",
    "\\begin{equation}\n",
    "\\frac {\\partial u}{\\partial x} + \\frac{\\partial v}{\\partial y} = - \\, \\frac{\\partial w}{\\partial z}\n",
    "\\end{equation}\n",
    "\n",
    "\\begin{align*}\n",
    "2x - 5y &=  8 \\\\\n",
    "3x + 9y &=  -12\n",
    "\\end{align*}\n",
    "\n",
    "Also you can use features like **equation numbering** and referencing in the notebooks:\n",
    "\n",
    "```md\n",
    "$$e^{i\\pi} + 1 = 0$$ (euler)\n",
    "```\n",
    "\n",
    "$$e^{i\\pi} + 1 = 0$$ (euler)\n",
    "\n",
    "Euler's identity, equation {math:numref}`euler`, was elected one of the\n",
    "most beautiful mathematical formulas.\n",
    "\n",
    "You can see the syntax used for this example [here in the MyST documentation](myst:syntax/math).\n",
    "\n",
    "## Code cells and outputs\n",
    "\n",
    "You can run cells, and the cell outputs will be captured and inserted into\n",
    "the resulting Sphinx site.\n",
    "\n",
    "### `__repr__` and HTML outputs\n",
    "\n",
    "For example, here's some simple Python:"
   ]
  },
  {
   "cell_type": "code",
   "execution_count": 1,
   "id": "d93e64a4",
   "metadata": {},
   "outputs": [
    {
     "data": {
      "text/plain": [
       "array([[41.75909442, 47.77742753, 72.58751045, 57.5999064 , 76.7413345 ,\n",
       "        79.94324178, 90.63186449, 99.87757552, 65.43374055, 88.72321843],\n",
       "       [78.72015985, 65.13434001, 89.53637545,  9.47520281, 30.14229969,\n",
       "        15.62823538, 96.01931158, 91.85945625, 16.75713272, 32.2629725 ],\n",
       "       [47.92299284, 76.08186261, 10.73857643, 41.39346357, 12.3379603 ,\n",
       "        76.10048626, 69.03989605, 39.38945142,  2.3563296 , 39.12132958]])"
      ]
     },
     "execution_count": 1,
     "metadata": {},
     "output_type": "execute_result"
    }
   ],
   "source": [
    "import matplotlib.pyplot as plt\n",
    "import numpy as np\n",
    "data = np.random.rand(3, 100) * 100\n",
    "data[:, :10]"
   ]
  },
  {
   "cell_type": "markdown",
   "id": "7862c6a6",
   "metadata": {},
   "source": [
    "This will also work with HTML outputs"
   ]
  },
  {
   "cell_type": "code",
   "execution_count": 2,
   "id": "53d990cf",
   "metadata": {},
   "outputs": [
    {
     "data": {
      "text/html": [
       "<div>\n",
       "<style scoped>\n",
       "    .dataframe tbody tr th:only-of-type {\n",
       "        vertical-align: middle;\n",
       "    }\n",
       "\n",
       "    .dataframe tbody tr th {\n",
       "        vertical-align: top;\n",
       "    }\n",
       "\n",
       "    .dataframe thead th {\n",
       "        text-align: right;\n",
       "    }\n",
       "</style>\n",
       "<table border=\"1\" class=\"dataframe\">\n",
       "  <thead>\n",
       "    <tr style=\"text-align: right;\">\n",
       "      <th></th>\n",
       "      <th>a</th>\n",
       "      <th>b</th>\n",
       "      <th>c</th>\n",
       "    </tr>\n",
       "  </thead>\n",
       "  <tbody>\n",
       "    <tr>\n",
       "      <th>0</th>\n",
       "      <td>41.759094</td>\n",
       "      <td>78.720160</td>\n",
       "      <td>47.922993</td>\n",
       "    </tr>\n",
       "    <tr>\n",
       "      <th>1</th>\n",
       "      <td>47.777428</td>\n",
       "      <td>65.134340</td>\n",
       "      <td>76.081863</td>\n",
       "    </tr>\n",
       "    <tr>\n",
       "      <th>2</th>\n",
       "      <td>72.587510</td>\n",
       "      <td>89.536375</td>\n",
       "      <td>10.738576</td>\n",
       "    </tr>\n",
       "    <tr>\n",
       "      <th>3</th>\n",
       "      <td>57.599906</td>\n",
       "      <td>9.475203</td>\n",
       "      <td>41.393464</td>\n",
       "    </tr>\n",
       "    <tr>\n",
       "      <th>4</th>\n",
       "      <td>76.741334</td>\n",
       "      <td>30.142300</td>\n",
       "      <td>12.337960</td>\n",
       "    </tr>\n",
       "  </tbody>\n",
       "</table>\n",
       "</div>"
      ],
      "text/plain": [
       "           a          b          c\n",
       "0  41.759094  78.720160  47.922993\n",
       "1  47.777428  65.134340  76.081863\n",
       "2  72.587510  89.536375  10.738576\n",
       "3  57.599906   9.475203  41.393464\n",
       "4  76.741334  30.142300  12.337960"
      ]
     },
     "execution_count": 2,
     "metadata": {},
     "output_type": "execute_result"
    }
   ],
   "source": [
    "import pandas as pd\n",
    "df = pd.DataFrame(data.T, columns=['a', 'b', 'c'])\n",
    "df.head()"
   ]
  },
  {
   "cell_type": "markdown",
   "id": "c1689590",
   "metadata": {},
   "source": [
    "as well as math outputs"
   ]
  },
  {
   "cell_type": "code",
   "execution_count": 3,
   "id": "457b3d5b",
   "metadata": {},
   "outputs": [
    {
     "data": {
      "text/latex": [
       "$\\displaystyle \\sum_{i=0}^n i^2 = \\frac{(n^2+n)(2n+1)}{6}$"
      ],
      "text/plain": [
       "<IPython.core.display.Math object>"
      ]
     },
     "execution_count": 3,
     "metadata": {},
     "output_type": "execute_result"
    }
   ],
   "source": [
    "from IPython.display import Math\n",
    "Math(r\"\\sum_{i=0}^n i^2 = \\frac{(n^2+n)(2n+1)}{6}\")"
   ]
  },
  {
   "cell_type": "markdown",
   "id": "d32d5e9a",
   "metadata": {},
   "source": [
    "This works for error messages as well:"
   ]
  },
  {
   "cell_type": "code",
   "execution_count": 4,
   "id": "bd9ee709",
   "metadata": {
    "tags": [
     "raises-exception"
    ]
   },
   "outputs": [
    {
     "name": "stdout",
     "output_type": "stream",
     "text": [
      "This will be properly printed...\n"
     ]
    },
    {
     "ename": "NameError",
     "evalue": "name 'thiswont' is not defined",
     "output_type": "error",
     "traceback": [
      "\u001b[0;31m---------------------------------------------------------------------------\u001b[0m",
      "\u001b[0;31mNameError\u001b[0m                                 Traceback (most recent call last)",
      "Input \u001b[0;32mIn [4]\u001b[0m, in \u001b[0;36m<cell line: 2>\u001b[0;34m()\u001b[0m\n\u001b[1;32m      1\u001b[0m \u001b[38;5;28mprint\u001b[39m(\u001b[38;5;124m\"\u001b[39m\u001b[38;5;124mThis will be properly printed...\u001b[39m\u001b[38;5;124m\"\u001b[39m)\n\u001b[0;32m----> 2\u001b[0m \u001b[38;5;28mprint\u001b[39m(\u001b[43mthiswont\u001b[49m)\n",
      "\u001b[0;31mNameError\u001b[0m: name 'thiswont' is not defined"
     ]
    }
   ],
   "source": [
    "print(\"This will be properly printed...\")\n",
    "print(thiswont)"
   ]
  },
  {
   "cell_type": "markdown",
   "id": "fdb157ce",
   "metadata": {},
   "source": [
    "### Images\n",
    "\n",
    "Images that are generated from your code (e.g., with Matplotlib) will also\n",
    "be embedded."
   ]
  },
  {
   "cell_type": "code",
   "execution_count": 5,
   "id": "bf1d50e6",
   "metadata": {},
   "outputs": [
    {
     "data": {
      "text/plain": [
       "<matplotlib.collections.PathCollection at 0x7f6bb3ab6a10>"
      ]
     },
     "execution_count": 5,
     "metadata": {},
     "output_type": "execute_result"
    },
    {
     "data": {
      "image/png": "[encoded data removed]",
      "text/plain": [
       "<Figure size 432x288 with 1 Axes>"
      ]
     },
     "metadata": {
      "needs_background": "light"
     },
     "output_type": "display_data"
    }
   ],
   "source": [
    "fig, ax = plt.subplots()\n",
    "ax.scatter(*data, c=data[2])"
   ]
  },
  {
   "cell_type": "markdown",
   "id": "053dcaea",
   "metadata": {},
   "source": [
    "## Raw cells\n",
    "\n",
    "The [raw cell type](https://nbformat.readthedocs.io/en/latest/format_description.html#raw-nbconvert-cells) can be used to specifically render the content as a specific [MIME media type](https://developer.mozilla.org/en-US/docs/Web/HTTP/Basics_of_HTTP/MIME_types).\n",
    "\n",
    "````markdown\n",
    "```{raw-cell}\n",
    ":format: text/html\n",
    "\n",
    "<p>My cat is <strong>very</strong> grumpy.</p>\n",
    "```\n",
    "````"
   ]
  },
  {
   "cell_type": "raw",
   "id": "dea2b18c",
   "metadata": {
    "format": "text/html"
   },
   "source": [
    "<p>My cat is <strong>very</strong> grumpy.</p>"
   ]
  }
 ],
 "metadata": {
  "file_format": "mystnb",
  "kernelspec": {
   "display_name": "python3",
   "name": "python3"
  },
  "language_info": {
   "codemirror_mode": {
    "name": "ipython",
    "version": 3
   },
   "file_extension": ".py",
   "mimetype": "text/x-python",
   "name": "python",
   "nbconvert_exporter": "python",
   "pygments_lexer": "ipython3",
   "version": "3.10.4"
  },
  "source_map": [
   5,
   124,
   129,
   133,
   137,
   141,
   144,
   148,
   153,
   160,
   163,
   177
  ]
 },
 "nbformat": 4,
 "nbformat_minor": 5
}